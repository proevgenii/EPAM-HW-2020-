{
  "nbformat": 4,
  "nbformat_minor": 0,
  "metadata": {
    "colab": {
      "name": "Async_parser.ipynb",
      "provenance": [],
      "collapsed_sections": [
        "eymmny6X3d44",
        "cOa0Gt423g4l"
      ],
      "toc_visible": true
    },
    "kernelspec": {
      "name": "python3",
      "display_name": "Python 3"
    },
    "language_info": {
      "name": "python"
    }
  },
  "cells": [
    {
      "cell_type": "code",
      "metadata": {
        "colab": {
          "base_uri": "https://localhost:8080/"
        },
        "id": "_S0EohFrQ5po",
        "outputId": "16e997fc-e1d5-4391-f50e-c28308cfd227"
      },
      "source": [
        "pip install aiohttp\n"
      ],
      "execution_count": 1,
      "outputs": [
        {
          "output_type": "stream",
          "text": [
            "Requirement already satisfied: aiohttp in /usr/local/lib/python3.7/dist-packages (3.7.4.post0)\n",
            "Requirement already satisfied: yarl<2.0,>=1.0 in /usr/local/lib/python3.7/dist-packages (from aiohttp) (1.6.3)\n",
            "Requirement already satisfied: typing-extensions>=3.6.5 in /usr/local/lib/python3.7/dist-packages (from aiohttp) (3.7.4.3)\n",
            "Requirement already satisfied: multidict<7.0,>=4.5 in /usr/local/lib/python3.7/dist-packages (from aiohttp) (5.1.0)\n",
            "Requirement already satisfied: chardet<5.0,>=2.0 in /usr/local/lib/python3.7/dist-packages (from aiohttp) (3.0.4)\n",
            "Requirement already satisfied: async-timeout<4.0,>=3.0 in /usr/local/lib/python3.7/dist-packages (from aiohttp) (3.0.1)\n",
            "Requirement already satisfied: attrs>=17.3.0 in /usr/local/lib/python3.7/dist-packages (from aiohttp) (20.3.0)\n",
            "Requirement already satisfied: idna>=2.0 in /usr/local/lib/python3.7/dist-packages (from yarl<2.0,>=1.0->aiohttp) (2.10)\n"
          ],
          "name": "stdout"
        }
      ]
    },
    {
      "cell_type": "code",
      "metadata": {
        "colab": {
          "base_uri": "https://localhost:8080/"
        },
        "id": "nwq3MFW8HVNs",
        "outputId": "b506822e-0fa6-474d-c173-83d8225a6430"
      },
      "source": [
        "pip install lxml"
      ],
      "execution_count": 54,
      "outputs": [
        {
          "output_type": "stream",
          "text": [
            "Requirement already satisfied: lxml in /usr/local/lib/python3.7/dist-packages (4.2.6)\n"
          ],
          "name": "stdout"
        }
      ]
    },
    {
      "cell_type": "code",
      "metadata": {
        "id": "c2wIlhtyFnmf"
      },
      "source": [
        "import time\n",
        "import asyncio\n",
        "import aiohttp\n",
        "from bs4 import BeautifulSoup\n",
        "import requests\n",
        "import ssl\n",
        "from aiohttp import ClientSession\n",
        "from itertools import  chain\n",
        "import json"
      ],
      "execution_count": 29,
      "outputs": []
    },
    {
      "cell_type": "code",
      "metadata": {
        "id": "j7AQaF9dSkvC"
      },
      "source": [
        "url = 'https://markets.businessinsider.com/index/components/s&p_500?p='\n"
      ],
      "execution_count": 3,
      "outputs": []
    },
    {
      "cell_type": "markdown",
      "metadata": {
        "id": "eymmny6X3d44"
      },
      "source": [
        "# Синхронный код"
      ]
    },
    {
      "cell_type": "code",
      "metadata": {
        "colab": {
          "base_uri": "https://localhost:8080/"
        },
        "id": "9RCvT4_ASwUh",
        "outputId": "cabe6953-e04a-43b2-b065-37ea5efc6146"
      },
      "source": [
        "%%time \n",
        "names = []\n",
        "for i in range(1, 11):\n",
        "  request = requests.get(url+ f\"{i}\")\n",
        "  print(request.status_code)\n",
        "  soup = BeautifulSoup(request.text, 'html.parser').find(class_ ='table-small').find_all('a')\n",
        "  for s in soup:\n",
        "    names.append(s.get('title'))\n"
      ],
      "execution_count": 4,
      "outputs": [
        {
          "output_type": "stream",
          "text": [
            "200\n",
            "200\n",
            "200\n",
            "200\n",
            "200\n",
            "200\n",
            "200\n",
            "200\n",
            "200\n",
            "200\n",
            "CPU times: user 1.22 s, sys: 33.2 ms, total: 1.25 s\n",
            "Wall time: 1.56 s\n"
          ],
          "name": "stdout"
        }
      ]
    },
    {
      "cell_type": "markdown",
      "metadata": {
        "id": "cOa0Gt423g4l"
      },
      "source": [
        "# Multithreads"
      ]
    },
    {
      "cell_type": "code",
      "metadata": {
        "id": "bFYDoanQ4I9L"
      },
      "source": [
        "from concurrent.futures import ThreadPoolExecutor\n",
        "from concurrent.futures import ProcessPoolExecutor"
      ],
      "execution_count": 5,
      "outputs": []
    },
    {
      "cell_type": "code",
      "metadata": {
        "id": "zy87SRHO4Uvw"
      },
      "source": [
        "def fetch_response(url: str) -> requests.Response:\n",
        "    return requests.get(url)\n",
        "\n",
        "def names(request):\n",
        "  names = []\n",
        "  soup = BeautifulSoup(request.text, 'html.parser').find(class_ ='table-small').find_all('a')\n",
        "  for s in soup:\n",
        "    names.append(s.get('title'))\n",
        "  return names"
      ],
      "execution_count": 6,
      "outputs": []
    },
    {
      "cell_type": "code",
      "metadata": {
        "id": "bMExq12l4bXR"
      },
      "source": [
        "urls = []\n",
        "for i in range(1, 11):\n",
        "  urls.append(url+ f\"{i}\")\n",
        "\n",
        "\n"
      ],
      "execution_count": 7,
      "outputs": []
    },
    {
      "cell_type": "code",
      "metadata": {
        "colab": {
          "base_uri": "https://localhost:8080/"
        },
        "id": "pd2p69Ss4L49",
        "outputId": "d16b690e-ce79-4afc-f29e-f2446843fea6"
      },
      "source": [
        "%%time \n",
        "with ThreadPoolExecutor(max_workers=10) as pool:\n",
        "    responses = pool.map(fetch_response, urls)\n",
        "    names = list(pool.map(names, responses))"
      ],
      "execution_count": 8,
      "outputs": [
        {
          "output_type": "stream",
          "text": [
            "CPU times: user 1.38 s, sys: 46.4 ms, total: 1.43 s\n",
            "Wall time: 1.36 s\n"
          ],
          "name": "stdout"
        }
      ]
    },
    {
      "cell_type": "markdown",
      "metadata": {
        "id": "W6TBxKjA8GAg"
      },
      "source": [
        "# AsyncIO + AIOHTTP"
      ]
    },
    {
      "cell_type": "code",
      "metadata": {
        "colab": {
          "base_uri": "https://localhost:8080/"
        },
        "id": "e02ZpyznkWpK",
        "outputId": "157b5ec3-f9f8-4c4a-fa14-7917ba25e016"
      },
      "source": [
        "#Без этого кода не запускаются циклы async loop\n",
        "!pip install nest_asyncio\n",
        "import nest_asyncio\n",
        "nest_asyncio.apply()"
      ],
      "execution_count": 9,
      "outputs": [
        {
          "output_type": "stream",
          "text": [
            "Requirement already satisfied: nest_asyncio in /usr/local/lib/python3.7/dist-packages (1.5.1)\n"
          ],
          "name": "stdout"
        }
      ]
    },
    {
      "cell_type": "markdown",
      "metadata": {
        "id": "GoE3XmprE-50"
      },
      "source": [
        "Спарсим все 10 страниц сайта и сохраним в одну переменную"
      ]
    },
    {
      "cell_type": "code",
      "metadata": {
        "colab": {
          "base_uri": "https://localhost:8080/"
        },
        "id": "ywkQulfHfb20",
        "outputId": "eb57a76e-4a3f-4d06-f4d2-112f8699f37d"
      },
      "source": [
        "\n",
        "async def fetch(url, session):\n",
        "    async with session.get(url) as response:\n",
        "        return await response.text()\n",
        "\n",
        "\n",
        "async def run():\n",
        "    tasks = []\n",
        "\n",
        "    # Fetch all responses within one Client session,\n",
        "    # keep connection alive for all requests.\n",
        "    async with ClientSession() as session:\n",
        "        for i in range(1, 11):\n",
        "            url = f'https://markets.businessinsider.com/index/components/s&p_500?p={i}'\n",
        "            task = asyncio.ensure_future(fetch(url.format(i), session))\n",
        "            tasks.append(\n",
        "                task)\n",
        "\n",
        "        responses = await asyncio.gather(*tasks)\n",
        "        # you now have all response bodies in this variable\n",
        "        return responses\n",
        "\n",
        "start = time.time()\n",
        "loop = asyncio.get_event_loop()\n",
        "future = asyncio.ensure_future(run())\n",
        "main_pages = loop.run_until_complete(future) # Получаем 10 главных страаниц сайта\n",
        "end = time.time()\n",
        "print('******', end-start)"
      ],
      "execution_count": 10,
      "outputs": [
        {
          "output_type": "stream",
          "text": [
            "****** 0.07325458526611328\n"
          ],
          "name": "stdout"
        }
      ]
    },
    {
      "cell_type": "markdown",
      "metadata": {
        "id": "OJ0KbnV3tnCF"
      },
      "source": [
        "Названия компаний"
      ]
    },
    {
      "cell_type": "code",
      "metadata": {
        "id": "nDELaXx_jW5s"
      },
      "source": [
        "def company_names(main_pages):\n",
        "  comp_names = [] \n",
        "  soup = BeautifulSoup(main_pages, 'html.parser').find(class_ ='table-small').find_all('a')\n",
        "  for s in soup:\n",
        "    comp_names.append(s.get('title')) #Получаем имена компаний с главных страниц\n",
        "  return comp_names "
      ],
      "execution_count": 11,
      "outputs": []
    },
    {
      "cell_type": "markdown",
      "metadata": {
        "id": "3TCsebVrtpFU"
      },
      "source": [
        "Ссылки на страницы каждой компании"
      ]
    },
    {
      "cell_type": "code",
      "metadata": {
        "id": "7PKI3dCxtPvL"
      },
      "source": [
        "def sub_pages_links(main_pages):\n",
        "  sub_pages = []\n",
        "  soup = BeautifulSoup(main_pages, 'html.parser').find(class_ ='table-small').find_all('a')\n",
        "  for s in soup:\n",
        "    sub_pages.append(s.get('href'))\n",
        "  return sub_pages"
      ],
      "execution_count": 12,
      "outputs": []
    },
    {
      "cell_type": "markdown",
      "metadata": {
        "id": "d0m9k5itFONt"
      },
      "source": [
        "Получим имена и ссылки, распраралелим функции на потоки"
      ]
    },
    {
      "cell_type": "code",
      "metadata": {
        "colab": {
          "base_uri": "https://localhost:8080/"
        },
        "id": "Ww_ItPuJcXuY",
        "outputId": "95bbb1e9-d032-4508-ed1c-dcf4332d7148"
      },
      "source": [
        "%%time \n",
        "with ThreadPoolExecutor(max_workers=10) as pool:\n",
        "    comp_names = list(chain.from_iterable(pool.map(company_names, main_pages)))\n",
        "    sub_pages = list(chain.from_iterable(pool.map(sub_pages_links, main_pages)))"
      ],
      "execution_count": 13,
      "outputs": [
        {
          "output_type": "stream",
          "text": [
            "CPU times: user 2.42 s, sys: 43.1 ms, total: 2.47 s\n",
            "Wall time: 2.47 s\n"
          ],
          "name": "stdout"
        }
      ]
    },
    {
      "cell_type": "markdown",
      "metadata": {
        "id": "QpkamOePtwCR"
      },
      "source": [
        "Так же как для 10 главных страниц, спарсим страницы каждой компании и сохраним в переменную"
      ]
    },
    {
      "cell_type": "code",
      "metadata": {
        "colab": {
          "base_uri": "https://localhost:8080/"
        },
        "id": "Pwr1NR8MtlPh",
        "outputId": "3b1e10dc-3a02-45da-e76d-68b03ef74a67"
      },
      "source": [
        "\n",
        "async def fetch(url, session):\n",
        "    async with session.get(url) as response:\n",
        "        return await response.text()\n",
        "\n",
        "\n",
        "async def run():\n",
        "    tasks = []\n",
        "\n",
        "    # Fetch all responses within one Client session,\n",
        "    # keep connection alive for all requests.\n",
        "    async with ClientSession() as session:\n",
        "        for i in sub_pages:\n",
        "            url = f'https://markets.businessinsider.com{i}'\n",
        "            \n",
        "            task = asyncio.ensure_future(fetch(url.format(i), session))\n",
        "            tasks.append(\n",
        "                task)\n",
        "\n",
        "        responses = await asyncio.gather(*tasks)\n",
        "        # you now have all response bodies in this variable\n",
        "        return responses\n",
        "\n",
        "\n",
        "start = time.time()\n",
        "loop = asyncio.get_event_loop()\n",
        "future = asyncio.ensure_future(run())\n",
        "sub_pages_texts = loop.run_until_complete(future) # Страницы всех компаний\n",
        "end = time.time()\n",
        "print('******', end-start)"
      ],
      "execution_count": 14,
      "outputs": [
        {
          "output_type": "stream",
          "text": [
            "****** 29.14627432823181\n"
          ],
          "name": "stdout"
        }
      ]
    },
    {
      "cell_type": "code",
      "metadata": {
        "colab": {
          "base_uri": "https://localhost:8080/"
        },
        "id": "y-EFy2TrFqc-",
        "outputId": "0289e698-fa5e-4dc8-9ebe-3d12f6d85ea1"
      },
      "source": [
        "def get_usd_course():\n",
        "  request = requests.get(\"http://www.cbr.ru/scripts/XML_daily.asp\")\n",
        "  soup = BeautifulSoup(request.text, \"lxml\").find(id =\"R01235\").value\n",
        "  return float((soup.text).replace(',' ,'.'))\n",
        "\n",
        "get_usd_course()"
      ],
      "execution_count": 64,
      "outputs": [
        {
          "output_type": "execute_result",
          "data": {
            "text/plain": [
              "76.2491"
            ]
          },
          "metadata": {
            "tags": []
          },
          "execution_count": 64
        }
      ]
    },
    {
      "cell_type": "markdown",
      "metadata": {
        "id": "RkWyU7rHu7c5"
      },
      "source": [
        "Текущая стоимость в рублях (конвертацию производить по текущему курсу, взятому с сайта центробанка РФ)"
      ]
    },
    {
      "cell_type": "code",
      "metadata": {
        "id": "-kJcdnTJuKqW"
      },
      "source": [
        "def get_prices(sub_pages_texts):\n",
        "  prices = []\n",
        "  soup = BeautifulSoup(sub_pages_texts, 'html.parser').find(class_ ='price-section__current-value')\n",
        "  for s in soup:\n",
        "    prices.append(float(s.strip().replace(',', ''))*get_usd_course())\n",
        "  return prices"
      ],
      "execution_count": 71,
      "outputs": []
    },
    {
      "cell_type": "markdown",
      "metadata": {
        "id": "D2Gu8LFFwTO6"
      },
      "source": [
        "Код компании (справа от названия компании на странице компании)"
      ]
    },
    {
      "cell_type": "code",
      "metadata": {
        "id": "M1nKwEfXwU4K"
      },
      "source": [
        "def company_code(sub_pages_texts):\n",
        "  codes = []\n",
        "  \n",
        "  soup = BeautifulSoup(sub_pages_texts, 'html.parser').find('span', class_ ='price-section__category')\n",
        "  codes.append(soup.text.replace('Stock , ','').strip())\n",
        "  return codes\n"
      ],
      "execution_count": 66,
      "outputs": []
    },
    {
      "cell_type": "markdown",
      "metadata": {
        "id": "VrwhcrrejZdd"
      },
      "source": [
        "P\\E ratio"
      ]
    },
    {
      "cell_type": "code",
      "metadata": {
        "id": "5-ijHsb5jbOb"
      },
      "source": [
        "def get_p_e_ratio(sub_pages_texts):\n",
        "  p_e_ratio = []\n",
        "  soup = BeautifulSoup(sub_pages_texts, 'html.parser').find('div', class_ ='snapshot').find_all(class_ = 'snapshot__data-item')\n",
        "  for s in soup:\n",
        "    if s.find(class_= 'snapshot__header', text ='P/E Ratio' ):\n",
        "      p_e_ratio.append(s.text[:11].strip())\n",
        "      return p_e_ratio\n",
        "  p_e_ratio.append(None)\n",
        "  return p_e_ratio\n",
        "\n",
        "\n",
        "\n"
      ],
      "execution_count": 67,
      "outputs": []
    },
    {
      "cell_type": "markdown",
      "metadata": {
        "id": "vcRm3LBj3zWK"
      },
      "source": [
        "Годовой рост/падение компании в процентах (основная таблица)"
      ]
    },
    {
      "cell_type": "code",
      "metadata": {
        "id": "g5rkd2Aw33Ll"
      },
      "source": [
        "def get_year_growth(main_pages):\n",
        "  growth_perc = []\n",
        "  table = BeautifulSoup(main_pages, 'html.parser').find(class_ =('table-small'))\n",
        "  for rows in table.find_all('tr')[1:]:\n",
        "    growth_perc.append(rows.find_all(class_ = 'text-right')[6]\n",
        "                       .find_all(class_ = ('colorRed', 'colorGreen'))[1]\n",
        "                       .text)\n",
        "  return growth_perc\n",
        "\n",
        "      "
      ],
      "execution_count": 68,
      "outputs": []
    },
    {
      "cell_type": "markdown",
      "metadata": {
        "id": "FP7hZYMP49T3"
      },
      "source": [
        "Высчитать какую прибыль принесли бы акции компании (в процентах), если бы они были куплены на уровне 52 Week Low и проданы на уровне 52 Week High (справа от графика на странице компании)"
      ]
    },
    {
      "cell_type": "code",
      "metadata": {
        "id": "IOzM7QSm4955"
      },
      "source": [
        "\n",
        "def potential_profit(sub_pages_texts):\n",
        "  profit = [] \n",
        "  try:\n",
        "    week_high = (BeautifulSoup(sub_pages_texts, 'html.parser').find(class_ = 'snapshot__highlow-container').find_all(class_ = 'snapshot__highlow')[1]\n",
        "                                                  .find_all('div', class_ =('snapshot__data-item snapshot__data-item--small snapshot__data-item--right',\n",
        "                                                                        'snapshot__data-item snapshot__data-item--small')))   \n",
        "    low = float(week_high[0].text[:15].strip().replace(',', ''))\n",
        "    high = float(week_high[1].text[:15].strip().replace(',', ''))\n",
        "    profit.append((high - low)*get_usd_course())\n",
        "  except IndexError:\n",
        "    profit.append(None)\n",
        "  return profit\n",
        "\n",
        "\n"
      ],
      "execution_count": 72,
      "outputs": []
    },
    {
      "cell_type": "code",
      "metadata": {
        "colab": {
          "base_uri": "https://localhost:8080/"
        },
        "id": "fy4rylUt_tA1",
        "outputId": "6e47929d-5d09-4df6-a158-5a99add7fa01"
      },
      "source": [
        "%%time \n",
        "with ThreadPoolExecutor(max_workers=100) as pool:\n",
        "    potential_profit = list(chain.from_iterable(pool.map(potential_profit, sub_pages_texts)))\n",
        "    year_growth = list(chain.from_iterable(pool.map(get_year_growth, main_pages)))\n",
        "    p_e_ratio = list(chain.from_iterable(pool.map(get_p_e_ratio, sub_pages_texts)))\n",
        "    company_code = list(chain.from_iterable(pool.map(company_code, sub_pages_texts)))\n",
        "    price = list(chain.from_iterable(pool.map(get_prices, sub_pages_texts)))\n"
      ],
      "execution_count": 73,
      "outputs": [
        {
          "output_type": "stream",
          "text": [
            "CPU times: user 5min 18s, sys: 30 s, total: 5min 48s\n",
            "Wall time: 5min 21s\n"
          ],
          "name": "stdout"
        }
      ]
    },
    {
      "cell_type": "markdown",
      "metadata": {
        "id": "mWh7B643Ow_3"
      },
      "source": [
        "Сохранить итоговую информацию в 4 JSON файла:\n",
        "\n",
        "1. Топ 10 компаний с самими дорогими акциями в рублях.\n",
        "2. Топ 10 компаний с самым низким показателем P/E.\n",
        "3. Топ 10 компаний, которые показали самый высокий рост за последний год\n",
        "4. Топ 10 комппаний, которые принесли бы наибольшую прибыль, если бы были куплены на самом минимуме и проданы на самом максимуме за последний год.\n"
      ]
    },
    {
      "cell_type": "markdown",
      "metadata": {
        "id": "U2SslVZ_Ocwj"
      },
      "source": [
        "Преобразование данных\n",
        " * Создадим таблицу со всеми данными\n",
        " * Затем будем ее сортировать по необходимой колонке\n",
        " * Запишем результаты в JSON"
      ]
    },
    {
      "cell_type": "code",
      "metadata": {
        "id": "VpBxcVBCO51k"
      },
      "source": [
        "import pandas as pd\n",
        "import numpy as np\n"
      ],
      "execution_count": 74,
      "outputs": []
    },
    {
      "cell_type": "code",
      "metadata": {
        "colab": {
          "base_uri": "https://localhost:8080/"
        },
        "id": "6tG71aNaCHSo",
        "outputId": "600bce32-b39c-437d-dabd-87cde921af99"
      },
      "source": [
        "print(len(comp_names), len(company_code), len(p_e_ratio), len(year_growth), len(potential_profit))"
      ],
      "execution_count": 75,
      "outputs": [
        {
          "output_type": "stream",
          "text": [
            "429 429 429 429 429\n"
          ],
          "name": "stdout"
        }
      ]
    },
    {
      "cell_type": "code",
      "metadata": {
        "id": "7rgzNoU9PU_E"
      },
      "source": [
        "df = pd.DataFrame({'Name': comp_names,\n",
        "                   'Code': company_code,\n",
        "                   'Price, RUB': price,\n",
        "                   'P/E': p_e_ratio,\n",
        "                    'Year growth, %': year_growth,\n",
        "                    'Potential profit, RUB': potential_profit\n",
        "                   })"
      ],
      "execution_count": 76,
      "outputs": []
    },
    {
      "cell_type": "code",
      "metadata": {
        "colab": {
          "base_uri": "https://localhost:8080/",
          "height": 935
        },
        "id": "UvbiWYOvG-7l",
        "outputId": "a44fd1d5-1795-4585-ab5c-727b78cb3dba"
      },
      "source": [
        "df.head(30)"
      ],
      "execution_count": 77,
      "outputs": [
        {
          "output_type": "execute_result",
          "data": {
            "text/html": [
              "<div>\n",
              "<style scoped>\n",
              "    .dataframe tbody tr th:only-of-type {\n",
              "        vertical-align: middle;\n",
              "    }\n",
              "\n",
              "    .dataframe tbody tr th {\n",
              "        vertical-align: top;\n",
              "    }\n",
              "\n",
              "    .dataframe thead th {\n",
              "        text-align: right;\n",
              "    }\n",
              "</style>\n",
              "<table border=\"1\" class=\"dataframe\">\n",
              "  <thead>\n",
              "    <tr style=\"text-align: right;\">\n",
              "      <th></th>\n",
              "      <th>Name</th>\n",
              "      <th>Code</th>\n",
              "      <th>Price, RUB</th>\n",
              "      <th>P/E</th>\n",
              "      <th>Year growth, %</th>\n",
              "      <th>Potential profit, RUB</th>\n",
              "    </tr>\n",
              "  </thead>\n",
              "  <tbody>\n",
              "    <tr>\n",
              "      <th>0</th>\n",
              "      <td>3M</td>\n",
              "      <td>MMM</td>\n",
              "      <td>15182.720792</td>\n",
              "      <td>19.91</td>\n",
              "      <td>35.46%</td>\n",
              "      <td>5226.875805</td>\n",
              "    </tr>\n",
              "    <tr>\n",
              "      <th>1</th>\n",
              "      <td>AO Smith</td>\n",
              "      <td>AOS</td>\n",
              "      <td>5175.026417</td>\n",
              "      <td>25.06</td>\n",
              "      <td>66.31%</td>\n",
              "      <td>2454.458529</td>\n",
              "    </tr>\n",
              "    <tr>\n",
              "      <th>2</th>\n",
              "      <td>Abbott Laboratories</td>\n",
              "      <td>ABT</td>\n",
              "      <td>9505.975297</td>\n",
              "      <td>29.76</td>\n",
              "      <td>37.87%</td>\n",
              "      <td>3230.674367</td>\n",
              "    </tr>\n",
              "    <tr>\n",
              "      <th>3</th>\n",
              "      <td>AbbVie</td>\n",
              "      <td>ABBV</td>\n",
              "      <td>8281.414751</td>\n",
              "      <td>9.91</td>\n",
              "      <td>31.73%</td>\n",
              "      <td>2615.344130</td>\n",
              "    </tr>\n",
              "    <tr>\n",
              "      <th>4</th>\n",
              "      <td>Accenture</td>\n",
              "      <td>ACN</td>\n",
              "      <td>21848.417114</td>\n",
              "      <td>32.81</td>\n",
              "      <td>60.09%</td>\n",
              "      <td>9332.127349</td>\n",
              "    </tr>\n",
              "    <tr>\n",
              "      <th>5</th>\n",
              "      <td>Activision Blizzard</td>\n",
              "      <td>ATVI</td>\n",
              "      <td>7338.213384</td>\n",
              "      <td>26.40</td>\n",
              "      <td>47.15%</td>\n",
              "      <td>3216.949529</td>\n",
              "    </tr>\n",
              "    <tr>\n",
              "      <th>6</th>\n",
              "      <td>Adobe</td>\n",
              "      <td>ADBE</td>\n",
              "      <td>39412.397299</td>\n",
              "      <td>47.10</td>\n",
              "      <td>53.55%</td>\n",
              "      <td>16139.646997</td>\n",
              "    </tr>\n",
              "    <tr>\n",
              "      <th>7</th>\n",
              "      <td>Advance Auto Parts</td>\n",
              "      <td>AAP</td>\n",
              "      <td>14681.001714</td>\n",
              "      <td>18.27</td>\n",
              "      <td>62.23%</td>\n",
              "      <td>6377.474724</td>\n",
              "    </tr>\n",
              "    <tr>\n",
              "      <th>8</th>\n",
              "      <td>AES</td>\n",
              "      <td>AES</td>\n",
              "      <td>2160.899494</td>\n",
              "      <td>15.98</td>\n",
              "      <td>101.78%</td>\n",
              "      <td>1377.821237</td>\n",
              "    </tr>\n",
              "    <tr>\n",
              "      <th>9</th>\n",
              "      <td>Aflac</td>\n",
              "      <td>AFL</td>\n",
              "      <td>4083.901796</td>\n",
              "      <td>8.88</td>\n",
              "      <td>38.42%</td>\n",
              "      <td>1783.466449</td>\n",
              "    </tr>\n",
              "    <tr>\n",
              "      <th>10</th>\n",
              "      <td>Agilent Technologies</td>\n",
              "      <td>A</td>\n",
              "      <td>10179.254850</td>\n",
              "      <td>30.64</td>\n",
              "      <td>68.75%</td>\n",
              "      <td>4846.392796</td>\n",
              "    </tr>\n",
              "    <tr>\n",
              "      <th>11</th>\n",
              "      <td>Air Products and Chemicals</td>\n",
              "      <td>APD</td>\n",
              "      <td>21716.506171</td>\n",
              "      <td>35.81</td>\n",
              "      <td>28.99%</td>\n",
              "      <td>9338.989768</td>\n",
              "    </tr>\n",
              "    <tr>\n",
              "      <th>12</th>\n",
              "      <td>Akamai</td>\n",
              "      <td>AKAM</td>\n",
              "      <td>8062.579834</td>\n",
              "      <td>20.32</td>\n",
              "      <td>4.02%</td>\n",
              "      <td>2460.558457</td>\n",
              "    </tr>\n",
              "    <tr>\n",
              "      <th>13</th>\n",
              "      <td>Alaska Air Group</td>\n",
              "      <td>ALK</td>\n",
              "      <td>5185.701291</td>\n",
              "      <td>-5.10</td>\n",
              "      <td>126.19%</td>\n",
              "      <td>3878.029226</td>\n",
              "    </tr>\n",
              "    <tr>\n",
              "      <th>14</th>\n",
              "      <td>Albemarle</td>\n",
              "      <td>ALB</td>\n",
              "      <td>12009.233250</td>\n",
              "      <td>35.35</td>\n",
              "      <td>133.57%</td>\n",
              "      <td>10106.818205</td>\n",
              "    </tr>\n",
              "    <tr>\n",
              "      <th>15</th>\n",
              "      <td>Alexandria Real Estate Equities</td>\n",
              "      <td>ARE</td>\n",
              "      <td>13464.066078</td>\n",
              "      <td>28.92</td>\n",
              "      <td>10.12%</td>\n",
              "      <td>3299.298557</td>\n",
              "    </tr>\n",
              "    <tr>\n",
              "      <th>16</th>\n",
              "      <td>Alexion Pharmaceuticals</td>\n",
              "      <td>ALXN</td>\n",
              "      <td>12616.938577</td>\n",
              "      <td>12.47</td>\n",
              "      <td>60.19%</td>\n",
              "      <td>5422.835992</td>\n",
              "    </tr>\n",
              "    <tr>\n",
              "      <th>17</th>\n",
              "      <td>Align Technology</td>\n",
              "      <td>ALGN</td>\n",
              "      <td>46033.106652</td>\n",
              "      <td>98.94</td>\n",
              "      <td>223.63%</td>\n",
              "      <td>34341.069658</td>\n",
              "    </tr>\n",
              "    <tr>\n",
              "      <th>18</th>\n",
              "      <td>Allegion</td>\n",
              "      <td>ALLE</td>\n",
              "      <td>10090.805894</td>\n",
              "      <td>None</td>\n",
              "      <td>37.56%</td>\n",
              "      <td>3395.372423</td>\n",
              "    </tr>\n",
              "    <tr>\n",
              "      <th>19</th>\n",
              "      <td>Alliant Energy</td>\n",
              "      <td>LNT</td>\n",
              "      <td>4284.436929</td>\n",
              "      <td>20.65</td>\n",
              "      <td>5.71%</td>\n",
              "      <td>1047.662634</td>\n",
              "    </tr>\n",
              "    <tr>\n",
              "      <th>20</th>\n",
              "      <td>Allstate</td>\n",
              "      <td>ALL</td>\n",
              "      <td>9366.439444</td>\n",
              "      <td>7.27</td>\n",
              "      <td>21.86%</td>\n",
              "      <td>2895.940818</td>\n",
              "    </tr>\n",
              "    <tr>\n",
              "      <th>21</th>\n",
              "      <td>Alphabet A (ex Google</td>\n",
              "      <td>GOOGL</td>\n",
              "      <td>174669.913298</td>\n",
              "      <td>30.00</td>\n",
              "      <td>78.31%</td>\n",
              "      <td>83797.760900</td>\n",
              "    </tr>\n",
              "    <tr>\n",
              "      <th>22</th>\n",
              "      <td>Alphabet C (ex Google</td>\n",
              "      <td>GOOG</td>\n",
              "      <td>175666.489035</td>\n",
              "      <td>30.01</td>\n",
              "      <td>78.61%</td>\n",
              "      <td>84514.502440</td>\n",
              "    </tr>\n",
              "    <tr>\n",
              "      <th>23</th>\n",
              "      <td>Altria</td>\n",
              "      <td>MO</td>\n",
              "      <td>3652.331890</td>\n",
              "      <td>9.36</td>\n",
              "      <td>27.97%</td>\n",
              "      <td>1339.696687</td>\n",
              "    </tr>\n",
              "    <tr>\n",
              "      <th>24</th>\n",
              "      <td>Amazon</td>\n",
              "      <td>AMZN</td>\n",
              "      <td>257125.690038</td>\n",
              "      <td>79.54</td>\n",
              "      <td>44.43%</td>\n",
              "      <td>98628.210850</td>\n",
              "    </tr>\n",
              "    <tr>\n",
              "      <th>25</th>\n",
              "      <td>AMD (Advanced Micro Devices)</td>\n",
              "      <td>AMD</td>\n",
              "      <td>6183.039519</td>\n",
              "      <td>70.19</td>\n",
              "      <td>42.84%</td>\n",
              "      <td>3874.216771</td>\n",
              "    </tr>\n",
              "    <tr>\n",
              "      <th>26</th>\n",
              "      <td>Ameren</td>\n",
              "      <td>AEE</td>\n",
              "      <td>6388.912089</td>\n",
              "      <td>21.68</td>\n",
              "      <td>6.48%</td>\n",
              "      <td>1564.631532</td>\n",
              "    </tr>\n",
              "    <tr>\n",
              "      <th>27</th>\n",
              "      <td>American Airlines</td>\n",
              "      <td>AAL</td>\n",
              "      <td>1627.918285</td>\n",
              "      <td>-0.81</td>\n",
              "      <td>98.18%</td>\n",
              "      <td>1360.283944</td>\n",
              "    </tr>\n",
              "    <tr>\n",
              "      <th>28</th>\n",
              "      <td>American Electric Power</td>\n",
              "      <td>AEP</td>\n",
              "      <td>6759.482715</td>\n",
              "      <td>18.17</td>\n",
              "      <td>-31.46%</td>\n",
              "      <td>NaN</td>\n",
              "    </tr>\n",
              "    <tr>\n",
              "      <th>29</th>\n",
              "      <td>American Express</td>\n",
              "      <td>AXP</td>\n",
              "      <td>11332.141242</td>\n",
              "      <td>31.21</td>\n",
              "      <td>76.08%</td>\n",
              "      <td>5752.232104</td>\n",
              "    </tr>\n",
              "  </tbody>\n",
              "</table>\n",
              "</div>"
            ],
            "text/plain": [
              "                               Name  ... Potential profit, RUB\n",
              "0                                3M  ...           5226.875805\n",
              "1                          AO Smith  ...           2454.458529\n",
              "2               Abbott Laboratories  ...           3230.674367\n",
              "3                            AbbVie  ...           2615.344130\n",
              "4                         Accenture  ...           9332.127349\n",
              "5               Activision Blizzard  ...           3216.949529\n",
              "6                             Adobe  ...          16139.646997\n",
              "7                Advance Auto Parts  ...           6377.474724\n",
              "8                               AES  ...           1377.821237\n",
              "9                             Aflac  ...           1783.466449\n",
              "10             Agilent Technologies  ...           4846.392796\n",
              "11       Air Products and Chemicals  ...           9338.989768\n",
              "12                           Akamai  ...           2460.558457\n",
              "13                 Alaska Air Group  ...           3878.029226\n",
              "14                        Albemarle  ...          10106.818205\n",
              "15  Alexandria Real Estate Equities  ...           3299.298557\n",
              "16          Alexion Pharmaceuticals  ...           5422.835992\n",
              "17                 Align Technology  ...          34341.069658\n",
              "18                         Allegion  ...           3395.372423\n",
              "19                   Alliant Energy  ...           1047.662634\n",
              "20                         Allstate  ...           2895.940818\n",
              "21            Alphabet A (ex Google  ...          83797.760900\n",
              "22            Alphabet C (ex Google  ...          84514.502440\n",
              "23                           Altria  ...           1339.696687\n",
              "24                           Amazon  ...          98628.210850\n",
              "25    AMD (Advanced Micro Devices)   ...           3874.216771\n",
              "26                           Ameren  ...           1564.631532\n",
              "27                American Airlines  ...           1360.283944\n",
              "28          American Electric Power  ...                   NaN\n",
              "29                 American Express  ...           5752.232104\n",
              "\n",
              "[30 rows x 6 columns]"
            ]
          },
          "metadata": {
            "tags": []
          },
          "execution_count": 77
        }
      ]
    },
    {
      "cell_type": "markdown",
      "metadata": {
        "id": "d44PaqDmUVdQ"
      },
      "source": [
        "1. Топ 10 компаний с самими дорогими акциями в рублях."
      ]
    },
    {
      "cell_type": "code",
      "metadata": {
        "id": "uYhCrMxDUEjG"
      },
      "source": [
        "df_most_expensive = df.sort_values(by=['Price, RUB'], ascending=False)\n",
        "result = df_most_expensive[:10].to_json(orient=\"records\")\n",
        "parsed = json.loads(result)\n",
        "with open('most_expensive.json', 'w') as f:\n",
        "    json.dump(parsed, f)\n"
      ],
      "execution_count": 79,
      "outputs": []
    },
    {
      "cell_type": "markdown",
      "metadata": {
        "id": "WRGB9c3yWUg-"
      },
      "source": [
        "2. Топ 10 компаний с самым низким показателем P/E."
      ]
    },
    {
      "cell_type": "code",
      "metadata": {
        "id": "-95cwKBMWW-u"
      },
      "source": [
        "df_min_p_e_value = df.sort_values(by=['P/E'])\n",
        "df_min_p_e_value[:10]\n",
        "result = df_min_p_e_value[:10].to_json(orient=\"records\")\n",
        "parsed = json.loads(result)\n",
        "with open('min_p_e_value.json', 'w') as f:\n",
        "    json.dump(parsed, f)\n",
        "\n"
      ],
      "execution_count": 80,
      "outputs": []
    },
    {
      "cell_type": "markdown",
      "metadata": {
        "id": "jDducyawWifF"
      },
      "source": [
        "3. Топ 10 компаний, которые показали самый высокий рост за последний год"
      ]
    },
    {
      "cell_type": "code",
      "metadata": {
        "id": "XsJQJ2G8WiIm"
      },
      "source": [
        "df_max_year_growth = df.sort_values(by=['Year growth, %'], ascending=False)\n",
        "df_max_year_growth[:10]\n",
        "result = df_max_year_growth[:10].to_json(orient=\"records\")\n",
        "parsed = json.loads(result)\n",
        "with open('max_year_growth.json', 'w') as f:\n",
        "    json.dump(parsed, f)"
      ],
      "execution_count": 82,
      "outputs": []
    },
    {
      "cell_type": "markdown",
      "metadata": {
        "id": "KdXD0RghW0MP"
      },
      "source": [
        "4. Топ 10 комппаний, которые принесли бы наибольшую прибыль, если бы были куплены на самом минимуме и проданы на самом максимуме за последний год."
      ]
    },
    {
      "cell_type": "code",
      "metadata": {
        "id": "bFn7hJs7W7XM"
      },
      "source": [
        "df_most_valid = df.sort_values(by=['Potential profit, RUB'], ascending=False)\n",
        "df_most_valid[:10]\n",
        "result = df_most_valid[:10].to_json(orient=\"records\")\n",
        "parsed = json.loads(result)\n",
        "with open('most_valid.json', 'w') as f:\n",
        "    json.dump(parsed, f)"
      ],
      "execution_count": 83,
      "outputs": []
    }
  ]
}